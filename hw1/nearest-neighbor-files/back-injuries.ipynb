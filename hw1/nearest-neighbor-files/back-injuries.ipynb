{
 "cells": [
  {
   "cell_type": "code",
   "execution_count": 1,
   "id": "b7e6bfc1",
   "metadata": {},
   "outputs": [],
   "source": [
    "import numpy as np\n",
    "import time"
   ]
  },
  {
   "cell_type": "code",
   "execution_count": 2,
   "id": "e64c2ea0",
   "metadata": {},
   "outputs": [],
   "source": [
    "# Load data set and code labels as 0 = 'NO', 1 = 'DH', 2 = 'SL'\n",
    "labels = ['NO', 'DH', 'SL']\n",
    "data = np.loadtxt('spine-data.txt', converters={6: lambda s: labels.index(s)})"
   ]
  },
  {
   "cell_type": "code",
   "execution_count": 3,
   "id": "8bf6930f",
   "metadata": {},
   "outputs": [],
   "source": [
    "train_data = data[:250, :6]\n",
    "train_labels = data[:250, 6].astype(int)\n",
    "\n",
    "test_data = data[250:, :6]\n",
    "test_labels = data[250:, 6].astype(int)"
   ]
  },
  {
   "cell_type": "code",
   "execution_count": 4,
   "id": "ec720231",
   "metadata": {},
   "outputs": [],
   "source": [
    "# L2 Distance\n",
    "def L2_distance(a, b):\n",
    "    return np.sqrt(np.sum((a - b) ** 2))\n",
    "\n",
    "# L1 Distance\n",
    "def L1_distance(a, b):\n",
    "    return np.sum(np.abs(a - b))"
   ]
  },
  {
   "cell_type": "code",
   "execution_count": 5,
   "id": "391b09b6",
   "metadata": {},
   "outputs": [],
   "source": [
    "# L1 Nearest Neighbor Classifier\n",
    "def L1_find_NN(x):\n",
    "    distances = [L1_distance(x,train_data[i,]) for i in range(len(train_labels))]\n",
    "    return np.argmin(distances)\n",
    "\n",
    "def L1_NN_classifier(x):\n",
    "    index = L1_find_NN(x)\n",
    "    return train_labels[index]"
   ]
  },
  {
   "cell_type": "code",
   "execution_count": 6,
   "id": "538e481a",
   "metadata": {},
   "outputs": [],
   "source": [
    "# L2 Nearest Neighbor Classifier\n",
    "def L2_find_NN(x):\n",
    "    distances = [L2_distance(x,train_data[i,]) for i in range(len(train_labels))]\n",
    "    return np.argmin(distances)\n",
    "\n",
    "def L2_NN_classifier(x):\n",
    "    index = L2_find_NN(x)\n",
    "    return train_labels[index]"
   ]
  },
  {
   "cell_type": "code",
   "execution_count": 7,
   "id": "0156263e",
   "metadata": {},
   "outputs": [
    {
     "name": "stdout",
     "output_type": "stream",
     "text": [
      "A success case:\n",
      "L1 NN classification:  2\n",
      "True label:  2\n"
     ]
    }
   ],
   "source": [
    "## A success case:\n",
    "print(\"A success case:\")\n",
    "print(\"L1 NN classification: \", L1_NN_classifier(test_data[0,]))\n",
    "print(\"True label: \", test_labels[0])\n"
   ]
  },
  {
   "cell_type": "code",
   "execution_count": 8,
   "id": "a941abcf",
   "metadata": {},
   "outputs": [
    {
     "name": "stdout",
     "output_type": "stream",
     "text": [
      "A success case:\n",
      "L2 NN classification:  1\n",
      "True label:  2\n"
     ]
    }
   ],
   "source": [
    "## A success case:\n",
    "print(\"A success case:\")\n",
    "print(\"L2 NN classification: \", L2_NN_classifier(test_data[40,]))\n",
    "print(\"True label: \", test_labels[0])\n"
   ]
  },
  {
   "cell_type": "code",
   "execution_count": 9,
   "id": "0ee1c986",
   "metadata": {},
   "outputs": [
    {
     "name": "stdout",
     "output_type": "stream",
     "text": [
      "Error of l1 nearest neighbor classifier:  0.21666666666666667\n",
      "Classification time (seconds):  0.02718210220336914\n"
     ]
    }
   ],
   "source": [
    "## Predict on each test data point (and time it!)\n",
    "t_before = time.time()\n",
    "l1_test_predictions = [L1_NN_classifier(test_data[i,]) for i in range(len(test_labels))]\n",
    "t_after = time.time()\n",
    "\n",
    "## Compute the error\n",
    "err_positions = np.not_equal(l1_test_predictions, test_labels)\n",
    "error = float(np.sum(err_positions))/len(test_labels)\n",
    "\n",
    "print(\"Error of l1 nearest neighbor classifier: \", error)\n",
    "print(\"Classification time (seconds): \", t_after - t_before)"
   ]
  },
  {
   "cell_type": "code",
   "execution_count": 10,
   "id": "6bc55ba5",
   "metadata": {},
   "outputs": [
    {
     "name": "stdout",
     "output_type": "stream",
     "text": [
      "Error of l2 nearest neighbor classifier:  0.23333333333333334\n",
      "Classification time (seconds):  0.03246593475341797\n"
     ]
    }
   ],
   "source": [
    "## Predict on each test data point (and time it!)\n",
    "t_before = time.time()\n",
    "l2_test_predictions = [L2_NN_classifier(test_data[i,]) for i in range(len(test_labels))]\n",
    "t_after = time.time()\n",
    "\n",
    "## Compute the error\n",
    "err_positions = np.not_equal(l2_test_predictions, test_labels)\n",
    "error = float(np.sum(err_positions))/len(test_labels)\n",
    "\n",
    "print(\"Error of l2 nearest neighbor classifier: \", error)\n",
    "print(\"Classification time (seconds): \", t_after - t_before)"
   ]
  },
  {
   "cell_type": "code",
   "execution_count": 11,
   "id": "849522a0",
   "metadata": {},
   "outputs": [
    {
     "name": "stdout",
     "output_type": "stream",
     "text": [
      "Confusion Matrix for L1:\n",
      "[[14  0  2]\n",
      " [ 9  9  0]\n",
      " [ 1  1 24]]\n"
     ]
    }
   ],
   "source": [
    "l1_confusion_matrix = np.zeros((3,3), dtype=int)\n",
    "for i,j in zip(test_labels, l1_test_predictions):\n",
    "    l1_confusion_matrix[i,j] += 1\n",
    "\n",
    "print(\"Confusion Matrix for L1:\")\n",
    "print(l1_confusion_matrix)"
   ]
  },
  {
   "cell_type": "code",
   "execution_count": 12,
   "id": "45e7138b",
   "metadata": {},
   "outputs": [
    {
     "name": "stdout",
     "output_type": "stream",
     "text": [
      "Confusion Matrix for L2:\n",
      "[[12  1  3]\n",
      " [ 9  9  0]\n",
      " [ 1  0 25]]\n"
     ]
    }
   ],
   "source": [
    "l2_confusion_matrix = np.zeros((3,3), dtype=int)\n",
    "for i,j in zip(test_labels, l2_test_predictions):\n",
    "    l2_confusion_matrix[i,j] += 1\n",
    "\n",
    "print(\"Confusion Matrix for L2:\")\n",
    "print(l2_confusion_matrix)"
   ]
  }
 ],
 "metadata": {
  "kernelspec": {
   "display_name": "hw1",
   "language": "python",
   "name": "python3"
  },
  "language_info": {
   "codemirror_mode": {
    "name": "ipython",
    "version": 3
   },
   "file_extension": ".py",
   "mimetype": "text/x-python",
   "name": "python",
   "nbconvert_exporter": "python",
   "pygments_lexer": "ipython3",
   "version": "3.12.7"
  }
 },
 "nbformat": 4,
 "nbformat_minor": 5
}
