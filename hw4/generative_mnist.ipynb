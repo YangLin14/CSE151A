{
 "cells": [
  {
   "cell_type": "markdown",
   "metadata": {},
   "source": [
    "# Gaussian generative models for handwritten digit classification"
   ]
  },
  {
   "cell_type": "markdown",
   "metadata": {},
   "source": [
    "Recall that the 1-NN classifier yielded a 3.09% test error rate on the MNIST data set of handwritten digits. We will now see that a Gaussian generative model does pretty well also, while being significantly faster and more compact."
   ]
  },
  {
   "cell_type": "markdown",
   "metadata": {},
   "source": [
    "## 1. Set up notebook and load in data"
   ]
  },
  {
   "cell_type": "markdown",
   "metadata": {},
   "source": [
    "As usual, we start by importing the required packages and data. For this notebook we will be using the *entire* `MNIST` dataset. The code below defines some helper functions that will load `MNIST` onto your computer."
   ]
  },
  {
   "cell_type": "code",
   "execution_count": 1,
   "metadata": {},
   "outputs": [],
   "source": [
    "%matplotlib inline\n",
    "import matplotlib.pyplot as plt \n",
    "import gzip, os\n",
    "import numpy as np\n",
    "from scipy.stats import multivariate_normal\n",
    "import time"
   ]
  },
  {
   "cell_type": "code",
   "execution_count": 2,
   "metadata": {},
   "outputs": [],
   "source": [
    "#\n",
    "# Code to read in the MNIST data set\n",
    "# Make sure you have the four gzipped files containing the data\n",
    "#\n",
    "def load_mnist_images(filename):\n",
    "    with gzip.open(filename, 'rb') as f:\n",
    "        data = np.frombuffer(f.read(), np.uint8, offset=16)\n",
    "    data = data.reshape(-1,784)\n",
    "    return data\n",
    "\n",
    "def load_mnist_labels(filename):\n",
    "    with gzip.open(filename, 'rb') as f:\n",
    "        data = np.frombuffer(f.read(), np.uint8, offset=8)\n",
    "    return data"
   ]
  },
  {
   "cell_type": "markdown",
   "metadata": {},
   "source": [
    "Now load in the training set and test set"
   ]
  },
  {
   "cell_type": "code",
   "execution_count": 3,
   "metadata": {},
   "outputs": [],
   "source": [
    "## Load the training set\n",
    "train_data = load_mnist_images('train-images-idx3-ubyte.gz')\n",
    "train_labels = load_mnist_labels('train-labels-idx1-ubyte.gz')\n",
    "\n",
    "## Load the test set\n",
    "test_data = load_mnist_images('t10k-images-idx3-ubyte.gz')\n",
    "test_labels = load_mnist_labels('t10k-labels-idx1-ubyte.gz')"
   ]
  },
  {
   "cell_type": "markdown",
   "metadata": {},
   "source": [
    "The function **displaychar** shows a single MNIST digit. To do this, it first has to reshape the 784-dimensional vector into a 28x28 image."
   ]
  },
  {
   "cell_type": "code",
   "execution_count": 4,
   "metadata": {},
   "outputs": [],
   "source": [
    "def displaychar(image):\n",
    "    plt.imshow(np.reshape(image, (28,28)), cmap=plt.cm.gray)\n",
    "    plt.axis('off')\n",
    "    plt.show()"
   ]
  },
  {
   "cell_type": "code",
   "execution_count": 5,
   "metadata": {},
   "outputs": [
    {
     "data": {
      "image/png": "[encoded data removed]",
      "text/plain": [
       "<Figure size 640x480 with 1 Axes>"
      ]
     },
     "metadata": {},
     "output_type": "display_data"
    }
   ],
   "source": [
    "displaychar(train_data[58])"
   ]
  },
  {
   "cell_type": "markdown",
   "metadata": {},
   "source": [
    "The training set consists of 60,000 images. Thus `train_data` should be a 60000x784 array while `train_labels` should be 60000x1. Let's check."
   ]
  },
  {
   "cell_type": "code",
   "execution_count": 6,
   "metadata": {},
   "outputs": [
    {
     "data": {
      "text/plain": [
       "((60000, 784), (60000,))"
      ]
     },
     "execution_count": 6,
     "metadata": {},
     "output_type": "execute_result"
    }
   ],
   "source": [
    "train_data.shape, train_labels.shape"
   ]
  },
  {
   "cell_type": "markdown",
   "metadata": {},
   "source": [
    "## 2. Fit a Gaussian generative model to the training data"
   ]
  },
  {
   "cell_type": "markdown",
   "metadata": {},
   "source": [
    "**<font color=\"magenta\">For you to do:</font>** Define a function, **fit_generative_model**, that takes as input a training set (data `x` and labels `y`) and fits a Gaussian generative model to it. It should return the parameters of this generative model; for each label `j = 0,1,...,9`, we have:\n",
    "* `pi[j]`: the frequency of that label\n",
    "* `mu[j]`: the 784-dimensional mean vector\n",
    "* `sigma[j]`: the 784x784 covariance matrix\n",
    "\n",
    "This means that `pi` is 10x1, `mu` is 10x784, and `sigma` is 10x784x784.\n",
    "\n",
    "We have already seen how to fit a Gaussian generative model in the Winery example, but now there is an added ingredient. <font color=\"magenta\">The empirical covariances are very likely to be singular (or close to singular), which means that we won't be able to do calculations with them</font>. Thus it is important to **regularize** these matrices. The standard way of doing this is to add `cI` to them, where `c` is some constant and `I` is the 784-dimensional identity matrix. (To put it another way, we compute the empirical covariances and then increase their diagonal entries by some constant `c`.)\n",
    "\n",
    "This modification is guaranteed to yield covariance matrices that are non-singular, for any `c > 0`, no matter how small. But this doesn't mean that we should make `c` as small as possible. Indeed, `c` is now a parameter, and by setting it appropriately, we can improve the performance of the model. We will study **regularization** in greater detail over the coming weeks.\n",
    "\n",
    "Your routine needs to choose a good setting of `c`. Crucially, this needs to be done using the training set alone. So you might try setting aside part of the training set as a validation set, or using some kind of cross-validation."
   ]
  },
  {
   "cell_type": "code",
   "execution_count": 7,
   "metadata": {},
   "outputs": [],
   "source": [
    "# Use first 50000 for training\n",
    "X_train = train_data[:50000]\n",
    "y_train = train_labels[:50000]\n",
    "\n",
    "# Use last 10000 for validation\n",
    "X_val = train_data[50000:]\n",
    "y_val = train_labels[50000:]\n",
    "\n",
    "def fit_generative_model(x, y, c):\n",
    "    k = 10  # labels 0,1,...,k-1\n",
    "    d = (x.shape)[1]  # number of features\n",
    "    mu = np.zeros((k,d))\n",
    "    sigma = np.zeros((k,d,d))\n",
    "    pi = np.zeros(k)\n",
    "    identity_matrix = np.eye(d)\n",
    "    \n",
    "    for label in range(k):\n",
    "        # Get all data points for the current label\n",
    "        indices = (y == label)\n",
    "        x_class = x[indices]\n",
    "        \n",
    "        # Calculate pi\n",
    "        pi[label] = len(x_class) / len(x)\n",
    "        \n",
    "        # Calculate mu\n",
    "        mu[label] = np.mean(x_class, axis=0)\n",
    "        \n",
    "        # Calculate sigma\n",
    "        cov_matrix = np.cov(x_class, rowvar=False)\n",
    "        \n",
    "        # Regularization\n",
    "        sigma[label] = cov_matrix + identity_matrix * c\n",
    "        \n",
    "    return mu, sigma, pi\n",
    "\n",
    "# 3. Define a function to get predictions\n",
    "# It uses log-probabilities to avoid underflow\n",
    "def get_predictions(x_test, mu, sigma, pi):\n",
    "    k = 10\n",
    "    n = x_test.shape[0]\n",
    "    scores = np.zeros((n, k))\n",
    "    \n",
    "    for label in range(k):\n",
    "        # Calculate log(pi_j)\n",
    "        log_pi = np.log(pi[label])\n",
    "        \n",
    "        # Calculate log P_j(x)\n",
    "        # allow_singular=True is important as matrices can be close to singular\n",
    "        try:\n",
    "            log_prob_x = multivariate_normal.logpdf(x_test, \n",
    "                                                    mean=mu[label], \n",
    "                                                    cov=sigma[label], \n",
    "                                                    allow_singular=True)\n",
    "        except np.linalg.LinAlgError as e:\n",
    "            print(f\"Error with label {label}: {e}\")\n",
    "            # If a matrix is truly singular, assign a very bad score\n",
    "            log_prob_x = np.full(n, -np.inf)\n",
    "\n",
    "        # Score is log(pi_j) + log P_j(x) [cite: 60]\n",
    "        scores[:, label] = log_pi + log_prob_x\n",
    "        \n",
    "    # Pick the label with the highest log-probability [cite: 60]\n",
    "    return np.argmax(scores, axis=1)\n",
    "\n"
   ]
  },
  {
   "cell_type": "markdown",
   "metadata": {},
   "source": [
    "Okay, let's try out your function. In particular, we will use **displaychar** to visualize the means of the Gaussians for the first three digits. You can try the other digits on your own."
   ]
  },
  {
   "cell_type": "code",
   "execution_count": 8,
   "metadata": {},
   "outputs": [
    {
     "data": {
      "image/png": "[encoded data removed]",
      "text/plain": [
       "<Figure size 640x480 with 1 Axes>"
      ]
     },
     "metadata": {},
     "output_type": "display_data"
    },
    {
     "data": {
      "image/png": "[encoded data removed]",
      "text/plain": [
       "<Figure size 640x480 with 1 Axes>"
      ]
     },
     "metadata": {},
     "output_type": "display_data"
    },
    {
     "data": {
      "image/png": "[encoded data removed]",
      "text/plain": [
       "<Figure size 640x480 with 1 Axes>"
      ]
     },
     "metadata": {},
     "output_type": "display_data"
    }
   ],
   "source": [
    "mu, sigma, pi = fit_generative_model(train_data, train_labels, 5000)\n",
    "displaychar(mu[0])\n",
    "displaychar(mu[1])\n",
    "displaychar(mu[2])"
   ]
  },
  {
   "cell_type": "markdown",
   "metadata": {},
   "source": [
    "## 3. Make predictions on test data"
   ]
  },
  {
   "cell_type": "markdown",
   "metadata": {},
   "source": [
    "Now let's see how many errors your model makes on the test set."
   ]
  },
  {
   "cell_type": "code",
   "execution_count": 9,
   "metadata": {},
   "outputs": [],
   "source": [
    "# #\n",
    "# # Compute log Pr(label|image) for each [test image,label] pair.\n",
    "# #\n",
    "# score = np.zeros((len(test_labels),k))\n",
    "# for label in range(0,k):\n",
    "#     rv = multivariate_normal(mean=mu[label], cov=sigma[label])\n",
    "#     for i in range(0,len(test_labels)):\n",
    "#        score[i,label] = np.log(pi[label]) + rv.logpdf(test_data[i,:])\n",
    "# predictions = np.argmax(score, axis=1)\n",
    "# #\n",
    "# # Finally, tally up score\n",
    "# #\n",
    "# errors = np.sum(predictions != test_labels)\n",
    "# print \"Your model makes \" + str(errors) + \" errors out of 10000\""
   ]
  },
  {
   "cell_type": "code",
   "execution_count": 10,
   "metadata": {},
   "outputs": [
    {
     "name": "stdout",
     "output_type": "stream",
     "text": [
      "Starting validation loop to find best 'c'...\n",
      "--- Testing c = 0.1 ---\n",
      "Validation Error: 18.80% (1880 mistakes)\n",
      "--- Testing c = 1 ---\n",
      "Validation Error: 16.28% (1628 mistakes)\n",
      "--- Testing c = 10 ---\n",
      "Validation Error: 12.25% (1225 mistakes)\n",
      "--- Testing c = 100 ---\n",
      "Validation Error: 7.83% (783 mistakes)\n",
      "--- Testing c = 1000 ---\n",
      "Validation Error: 4.71% (471 mistakes)\n",
      "--- Testing c = 5000 ---\n",
      "Validation Error: 4.17% (417 mistakes)\n",
      "--- Testing c = 3300 ---\n",
      "Validation Error: 4.10% (410 mistakes)\n",
      "--- Testing c = 10000 ---\n",
      "Validation Error: 4.89% (489 mistakes)\n",
      "\n",
      "Best c = 3300 (Error: 4.10%)\n"
     ]
    }
   ],
   "source": [
    "print(\"Starting validation loop to find best 'c'...\")\n",
    "\n",
    "c_values = [0.1, 1, 10, 100, 1000, 5000, 3300, 10000]\n",
    "best_c = None\n",
    "best_error = float('inf')\n",
    "\n",
    "for c in c_values:\n",
    "    print(f\"--- Testing c = {c} ---\")\n",
    "    \n",
    "    # Fit model on the 50k training set with the current c\n",
    "    mu, sigma, pi = fit_generative_model(X_train, y_train, c)\n",
    "    \n",
    "    # Make predictions on the 10k validation set\n",
    "    predictions = get_predictions(X_val, mu, sigma, pi)\n",
    "    \n",
    "    # Calculate error rate\n",
    "    num_errors = np.sum(predictions != y_val)\n",
    "    error_rate = num_errors / len(y_val)\n",
    "    \n",
    "    print(f\"Validation Error: {error_rate*100:.2f}% ({num_errors} mistakes)\")\n",
    "    \n",
    "    # Check if this is the best c so far \n",
    "    if error_rate < best_error:\n",
    "        best_error = error_rate\n",
    "        best_c = c\n",
    "        \n",
    "print(f\"\\nBest c = {best_c} (Error: {best_error*100:.2f}%)\")"
   ]
  },
  {
   "cell_type": "code",
   "execution_count": 11,
   "metadata": {},
   "outputs": [
    {
     "name": "stdout",
     "output_type": "stream",
     "text": [
      "Training final model with best_c = 3300...\n",
      "Evaluating on the TEST set...\n",
      "FINAL TEST ERROR: 4.32% (432 mistakes)\n"
     ]
    }
   ],
   "source": [
    "print(f\"Training final model with best_c = {best_c}...\")\n",
    "# Fit the final model on the 50k training set [cite: 47]\n",
    "mu_final, sigma_final, pi_final = fit_generative_model(X_train, y_train, best_c)\n",
    "\n",
    "print(\"Evaluating on the TEST set...\")\n",
    "# Make predictions on the actual test set\n",
    "test_predictions = get_predictions(test_data, mu_final, sigma_final, pi_final)\n",
    "\n",
    "# Calculate test error\n",
    "test_errors = np.sum(test_predictions != test_labels)\n",
    "test_error_rate = test_errors / len(test_labels)\n",
    "\n",
    "print(f\"FINAL TEST ERROR: {test_error_rate*100:.2f}% ({test_errors} mistakes)\")"
   ]
  },
  {
   "cell_type": "code",
   "execution_count": 12,
   "metadata": {},
   "outputs": [
    {
     "name": "stdout",
     "output_type": "stream",
     "text": [
      "Displaying 5 random misclassified digits...\n",
      "True Label: 4, Predicted Label: 9\n"
     ]
    },
    {
     "data": {
      "image/png": "[encoded data removed]",
      "text/plain": [
       "<Figure size 640x480 with 1 Axes>"
      ]
     },
     "metadata": {},
     "output_type": "display_data"
    },
    {
     "name": "stdout",
     "output_type": "stream",
     "text": [
      "True Label: 7, Predicted Label: 9\n"
     ]
    },
    {
     "data": {
      "image/png": "[encoded data removed]",
      "text/plain": [
       "<Figure size 640x480 with 1 Axes>"
      ]
     },
     "metadata": {},
     "output_type": "display_data"
    },
    {
     "name": "stdout",
     "output_type": "stream",
     "text": [
      "True Label: 8, Predicted Label: 1\n"
     ]
    },
    {
     "data": {
      "image/png": "[encoded data removed]",
      "text/plain": [
       "<Figure size 640x480 with 1 Axes>"
      ]
     },
     "metadata": {},
     "output_type": "display_data"
    },
    {
     "name": "stdout",
     "output_type": "stream",
     "text": [
      "True Label: 4, Predicted Label: 6\n"
     ]
    },
    {
     "data": {
      "image/png": "[encoded data removed]",
      "text/plain": [
       "<Figure size 640x480 with 1 Axes>"
      ]
     },
     "metadata": {},
     "output_type": "display_data"
    },
    {
     "name": "stdout",
     "output_type": "stream",
     "text": [
      "True Label: 7, Predicted Label: 9\n"
     ]
    },
    {
     "data": {
      "image/png": "[encoded data removed]",
      "text/plain": [
       "<Figure size 640x480 with 1 Axes>"
      ]
     },
     "metadata": {},
     "output_type": "display_data"
    }
   ],
   "source": [
    "# Find the indices of all misclassified images\n",
    "misclassified_indices = np.where(test_predictions != test_labels)[0]\n",
    "\n",
    "# Pick 5 random indices from that list\n",
    "random_choices = np.random.choice(misclassified_indices, 5, replace=False)\n",
    "\n",
    "print(\"Displaying 5 random misclassified digits...\")\n",
    "# Loop and display\n",
    "for i in random_choices:\n",
    "    # Get the image, its true label, and its predicted label\n",
    "    image = test_data[i]\n",
    "    true_label = test_labels[i]\n",
    "    predicted_label = test_predictions[i]\n",
    "    \n",
    "    print(f\"True Label: {true_label}, Predicted Label: {predicted_label}\")\n",
    "    displaychar(image) # This function is from the notebook"
   ]
  },
  {
   "cell_type": "markdown",
   "metadata": {},
   "source": [
    "## 4. Things to ponder\n",
    "\n",
    "* What happens if you do not regularize the covariance matrices?\n",
    "* What happens if you set the value of `c` too high, for instance to one billion? Do you understand why this happens?\n",
    "* What value of c did you end up using? How many errors did your model make on the training set?\n",
    "* We have talked about using the same regularization constant `c` for all ten classes. What about using a different value of `c` for each class? How would you go about choosing these? Can you get better performance in this way?"
   ]
  },
  {
   "cell_type": "code",
   "execution_count": null,
   "metadata": {},
   "outputs": [],
   "source": []
  }
 ],
 "metadata": {
  "kernelspec": {
   "display_name": "cse151a",
   "language": "python",
   "name": "python3"
  },
  "language_info": {
   "codemirror_mode": {
    "name": "ipython",
    "version": 3
   },
   "file_extension": ".py",
   "mimetype": "text/x-python",
   "name": "python",
   "nbconvert_exporter": "python",
   "pygments_lexer": "ipython3",
   "version": "3.11.13"
  },
  "toc": {
   "colors": {
    "hover_highlight": "#DAA520",
    "navigate_num": "#000000",
    "navigate_text": "#333333",
    "running_highlight": "#FF0000",
    "selected_highlight": "#FFD700",
    "sidebar_border": "#EEEEEE",
    "wrapper_background": "#FFFFFF"
   },
   "moveMenuLeft": true,
   "nav_menu": {
    "height": "12px",
    "width": "252px"
   },
   "navigate_menu": true,
   "number_sections": false,
   "sideBar": true,
   "threshold": 4,
   "toc_cell": false,
   "toc_section_display": "block",
   "toc_window_display": false,
   "widenNotebook": false
  }
 },
 "nbformat": 4,
 "nbformat_minor": 1
}
