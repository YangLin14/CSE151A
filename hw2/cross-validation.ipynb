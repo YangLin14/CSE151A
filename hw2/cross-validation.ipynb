{
 "cells": [
  {
   "cell_type": "code",
   "execution_count": 8,
   "id": "989a3862",
   "metadata": {},
   "outputs": [],
   "source": [
    "import numpy as np\n",
    "import matplotlib.pyplot as plt\n",
    "\n",
    "# Load the training data\n",
    "full_data = np.loadtxt('wine/wine.data.txt', delimiter=',')\n",
    "\n",
    "# Get the labels (wine classes)\n",
    "train_labels = full_data[:, 0]\n",
    "\n",
    "# Get the features\n",
    "train_data = full_data[:, 1:]\n"
   ]
  },
  {
   "cell_type": "code",
   "execution_count": 9,
   "id": "259c0278",
   "metadata": {},
   "outputs": [],
   "source": [
    "# 1-NN Classifier with Leave-One-Out Cross-Validation\n",
    "def euclidean_distance(a, b):\n",
    "    return np.sqrt(np.sum((a - b) ** 2))\n",
    "\n",
    "def LOOCV():\n",
    "    \"\"\"\n",
    "    Performs leave-one-out cross-validation for a 1-NN classifier.\n",
    "    Returns a list of (true_label, predicted_label) tuples.\n",
    "    \"\"\"\n",
    "    predictions = []\n",
    "    for i in range(len(train_labels)):\n",
    "        x = train_data[i,]\n",
    "        y_true = train_labels[i]\n",
    "        \n",
    "        # Leave one out\n",
    "        train_data_loo = np.delete(train_data, i, axis=0)\n",
    "        train_labels_loo = np.delete(train_labels, i, axis=0)\n",
    "        \n",
    "        # Find nearest neighbor\n",
    "        distances = [euclidean_distance(x, train_data_loo[j,]) for j in range(len(train_labels_loo))]\n",
    "        nn_index = np.argmin(distances)\n",
    "        y_pred = train_labels_loo[nn_index]\n",
    "\n",
    "        predictions.append((y_true, y_pred))\n",
    "\n",
    "    return predictions"
   ]
  },
  {
   "cell_type": "code",
   "execution_count": 10,
   "id": "bb30d986",
   "metadata": {},
   "outputs": [],
   "source": [
    "def calculate_accuracy(predictions):\n",
    "    \"\"\"\n",
    "    Calculates accuracy based on a list of (true, predicted) labels.\n",
    "    \"\"\"\n",
    "    correct = sum(1 for y_true, y_pred in predictions if y_true == y_pred)\n",
    "    return correct / len(predictions)\n",
    "\n",
    "def calculate_confusion_matrix(predictions):\n",
    "    \"\"\"\n",
    "    Calculates a 3x3 confusion matrix from a list of (true, predicted) labels.\n",
    "    \"\"\"\n",
    "    confusion_matrix = np.zeros((3, 3), dtype=int)\n",
    "    for y_true, y_pred in predictions:\n",
    "        true_idx = int(y_true) - 1\n",
    "        pred_idx = int(y_pred) - 1\n",
    "        confusion_matrix[true_idx, pred_idx] += 1\n",
    "    return confusion_matrix"
   ]
  },
  {
   "cell_type": "code",
   "execution_count": 11,
   "id": "5d1a4ff0",
   "metadata": {},
   "outputs": [
    {
     "name": "stdout",
     "output_type": "stream",
     "text": [
      "Accuracy of LOOCV:  0.7696629213483146 \n",
      "\n",
      "Error of LOOCV:  0.2303370786516854 \n",
      "\n",
      "Confusion Matrix of LOOCV:\n",
      "[[52  3  4]\n",
      " [ 5 54 12]\n",
      " [ 3 14 31]]\n"
     ]
    }
   ],
   "source": [
    "predictions = LOOCV()\n",
    "accuracy = calculate_accuracy(predictions)\n",
    "error = 1 - accuracy\n",
    "confusion_matrix = calculate_confusion_matrix(predictions)\n",
    "\n",
    "print(\"Accuracy of LOOCV: \", accuracy, \"\\n\")\n",
    "print(\"Error of LOOCV: \", error, \"\\n\")\n",
    "\n",
    "print(\"Confusion Matrix of LOOCV:\")\n",
    "print(confusion_matrix)"
   ]
  },
  {
   "cell_type": "code",
   "execution_count": 12,
   "id": "139cf447",
   "metadata": {},
   "outputs": [],
   "source": [
    "# k-fold Cross-Validation\n",
    "def k_fold_CV(k):\n",
    "    \"\"\"\n",
    "    Performs k-fold cross-validation for a 1-NN classifier.\n",
    "    Returns a list of (true_label, predicted_label) tuples.\n",
    "    \"\"\"\n",
    "    fold_size = len(train_labels) // k\n",
    "    predictions = []\n",
    "\n",
    "    for fold in range(k):\n",
    "        start = fold * fold_size\n",
    "        end = (fold + 1) * fold_size if fold != k - 1 else len(train_labels)\n",
    "\n",
    "        x_val = train_data[start:end,]\n",
    "        y_val = train_labels[start:end]\n",
    "\n",
    "        x_train = np.delete(train_data, slice(start, end), axis=0)\n",
    "        y_train = np.delete(train_labels, slice(start, end), axis=0)\n",
    "\n",
    "        for i in range(len(y_val)):\n",
    "            x = x_val[i,]\n",
    "            y_true = y_val[i]\n",
    "\n",
    "            distances = [euclidean_distance(x, x_train[j,]) for j in range(len(y_train))]\n",
    "            nn_index = np.argmin(distances)\n",
    "            y_pred = y_train[nn_index]\n",
    "\n",
    "            predictions.append((y_true, y_pred))\n",
    "\n",
    "    return predictions"
   ]
  },
  {
   "cell_type": "code",
   "execution_count": 13,
   "id": "e11ae7aa",
   "metadata": {},
   "outputs": [
    {
     "name": "stdout",
     "output_type": "stream",
     "text": [
      "k = 2, Accuracy = 0.3315\n",
      "k = 7, Accuracy = 0.6573\n",
      "k = 12, Accuracy = 0.7079\n",
      "k = 17, Accuracy = 0.7135\n",
      "k = 22, Accuracy = 0.7191\n",
      "k = 27, Accuracy = 0.7191\n",
      "k = 32, Accuracy = 0.7135\n",
      "k = 38, Accuracy = 0.7079\n",
      "k = 43, Accuracy = 0.7360\n",
      "k = 48, Accuracy = 0.6910\n",
      "k = 53, Accuracy = 0.7191\n",
      "k = 58, Accuracy = 0.7584\n",
      "k = 63, Accuracy = 0.6011\n",
      "k = 69, Accuracy = 0.6629\n",
      "k = 74, Accuracy = 0.6910\n",
      "k = 79, Accuracy = 0.7191\n",
      "k = 84, Accuracy = 0.7472\n",
      "k = 89, Accuracy = 0.7697\n",
      "k = 94, Accuracy = 0.6292\n",
      "k = 100, Accuracy = 0.6180\n"
     ]
    },
    {
     "data": {
      "image/png": "[encoded data removed]",
      "text/plain": [
       "<Figure size 1000x600 with 1 Axes>"
      ]
     },
     "metadata": {},
     "output_type": "display_data"
    }
   ],
   "source": [
    "# Choose 20 different values for k, spread out from 2 to 100\n",
    "k_values = np.linspace(2, 100, 20, dtype=int)\n",
    "accuracies = []\n",
    "\n",
    "# Loop through each k, run cross-validation, and store the accuracy\n",
    "for k in k_values:\n",
    "    # Get the list of (true_label, predicted_label)\n",
    "    predictions = k_fold_CV(k)\n",
    "    \n",
    "    # Calculate accuracy\n",
    "    accuracy = calculate_accuracy(predictions)\n",
    "    \n",
    "    # Store the result\n",
    "    accuracies.append(accuracy)\n",
    "    \n",
    "    # Print progress\n",
    "    print(f\"k = {k}, Accuracy = {accuracy:.4f}\")\n",
    "\n",
    "# Plot the results\n",
    "plt.figure(figsize=(10, 6))\n",
    "plt.plot(k_values, accuracies, marker='o', linestyle='-')\n",
    "plt.title('1-NN Accuracy vs. Number of Folds (k)')\n",
    "plt.xlabel('k (Number of Folds)')\n",
    "plt.ylabel('Accuracy')\n",
    "plt.grid(True)\n",
    "plt.show()"
   ]
  },
  {
   "cell_type": "code",
   "execution_count": null,
   "id": "367cf619",
   "metadata": {},
   "outputs": [],
   "source": [
    "def LOOCV_normalized():\n",
    "    \"\"\"\n",
    "    Performs LOOCV for a 1-NN classifier with feature normalization.\n",
    "    Returns a list of (true_label, predicted_label) tuples.\n",
    "    \"\"\"\n",
    "    predictions = []\n",
    "    for i in range(len(train_labels)):\n",
    "        # The point to be classified (our validation set for this fold)\n",
    "        x_val = train_data[i,]\n",
    "        y_true = train_labels[i]\n",
    "        \n",
    "        # The rest of the data is our training set for this fold\n",
    "        x_train = np.delete(train_data, i, axis=0)\n",
    "        y_train = np.delete(train_labels, i, axis=0)\n",
    "        \n",
    "        # 1. Normalize the data based on the TRAINING set\n",
    "        min_vals = np.min(x_train, axis=0)\n",
    "        max_vals = np.max(x_train, axis=0)\n",
    "        \n",
    "        # Avoid division by zero if a feature has the same value for all points\n",
    "        range_vals = max_vals - min_vals\n",
    "        range_vals[range_vals == 0] = 1 \n",
    "        \n",
    "        # Apply normalization to both training and validation sets\n",
    "        x_train_norm = (x_train - min_vals) / range_vals\n",
    "        x_val_norm = (x_val - min_vals) / range_vals\n",
    "\n",
    "        # 2. Find the nearest neighbor using the normalized data\n",
    "        distances = [euclidean_distance(x_val_norm, x_train_norm[j,]) for j in range(len(y_train))]\n",
    "        nn_index = np.argmin(distances)\n",
    "        y_pred = y_train[nn_index]\n",
    "\n",
    "        predictions.append((y_true, y_pred))\n",
    "\n",
    "    return predictions"
   ]
  },
  {
   "cell_type": "code",
   "execution_count": 15,
   "id": "6473c57a",
   "metadata": {},
   "outputs": [
    {
     "name": "stdout",
     "output_type": "stream",
     "text": [
      "Accuracy with Normalization: 0.949438202247191 \n",
      "\n",
      "Confusion Matrix with Normalization:\n",
      "[[59  0  0]\n",
      " [ 5 62  4]\n",
      " [ 0  0 48]]\n"
     ]
    }
   ],
   "source": [
    "predictions_norm = LOOCV_normalized()\n",
    "\n",
    "accuracy_norm = calculate_accuracy(predictions_norm)\n",
    "confusion_matrix_norm = calculate_confusion_matrix(predictions_norm)\n",
    "\n",
    "print(\"Accuracy with Normalization:\", accuracy_norm, \"\\n\")\n",
    "print(\"Confusion Matrix with Normalization:\")\n",
    "print(confusion_matrix_norm)"
   ]
  }
 ],
 "metadata": {
  "kernelspec": {
   "display_name": "cse151a",
   "language": "python",
   "name": "python3"
  },
  "language_info": {
   "codemirror_mode": {
    "name": "ipython",
    "version": 3
   },
   "file_extension": ".py",
   "mimetype": "text/x-python",
   "name": "python",
   "nbconvert_exporter": "python",
   "pygments_lexer": "ipython3",
   "version": "3.11.13"
  }
 },
 "nbformat": 4,
 "nbformat_minor": 5
}
