{
 "cells": [
  {
   "cell_type": "markdown",
   "id": "99c9131b",
   "metadata": {},
   "source": [
    "## <font color='blue'>Linear regression on California housing data</font>\n",
    "\n",
    "The California Housing data set was obtained from the 1990 California census. One use of it is to predict housing prices based on features such as house age, location, number of bedrooms, etc.\n",
    "\n",
    "In the data, the housing has been divided into \"blocks\", each a geographically compact area containing on average 1400 individuals. There are 20,640 data points, one per block.\n",
    "\n",
    "Each data point has the following information about the corresponding block:\n",
    "* median income (multiples of 10K) in that block\n",
    "* median house age\n",
    "* average number of rooms in housing in that block\n",
    "* average number of bedrooms\n",
    "* population\n",
    "* average occupancy of houses in block\n",
    "* latitude\n",
    "* longitude\n",
    "* median house value (multiples of 100K)\n",
    "The regression problem is to predict the house value based on the other 8 features."
   ]
  },
  {
   "cell_type": "markdown",
   "id": "4b34e47a",
   "metadata": {},
   "source": [
    "### <font color='blue'>1. Loading the data and getting some summary statistics</font>\n",
    "\n",
    "In addition to `numpy` and `matplotlib` we will be using `pandas`. This gives us a handy way of storing the data in \"frames\" which include attribute names."
   ]
  },
  {
   "cell_type": "code",
   "execution_count": null,
   "id": "175bb63b",
   "metadata": {},
   "outputs": [],
   "source": [
    "import pandas as pd\n",
    "import numpy as np"
   ]
  },
  {
   "cell_type": "markdown",
   "id": "b99a04fc",
   "metadata": {},
   "source": [
    "Now let's load in the data and take a quick look at it. The display has one point per row. Notice how nice the formatting is, and how each column is named according to its feature."
   ]
  },
  {
   "cell_type": "code",
   "execution_count": null,
   "id": "23a734f7",
   "metadata": {},
   "outputs": [],
   "source": [
    "from sklearn.datasets import fetch_california_housing\n",
    "housing = fetch_california_housing(as_frame=True)\n",
    "df = housing.frame  # a Pandas data-frame\n",
    "display(df)"
   ]
  },
  {
   "cell_type": "markdown",
   "id": "f4add6c8",
   "metadata": {},
   "source": [
    "Now let's look at the correlations between these 9 variables. We can use the `corr()` method in `pandas` for this, and then display the resulting matrix using some nice formatting."
   ]
  },
  {
   "cell_type": "code",
   "execution_count": null,
   "id": "fc806bd6",
   "metadata": {},
   "outputs": [],
   "source": [
    "# Compute correlation matrix\n",
    "corr_matrix = df.corr() \n",
    "# Print it nicely\n",
    "corr_matrix.style \\\n",
    "    .background_gradient(cmap='coolwarm') \\\n",
    "    .format(precision=2)"
   ]
  },
  {
   "cell_type": "markdown",
   "id": "1d0f89fd",
   "metadata": {},
   "source": [
    "<font color='magenta'>Some questions for you:</font>\n",
    "* Which (other) feature is most highly correlated with median house value?\n",
    "* Which pair of features are the most strongly correlated?\n",
    "* Which pair of features are the most negatively correlated?"
   ]
  },
  {
   "cell_type": "markdown",
   "id": "a2d0c066",
   "metadata": {},
   "source": [
    "### <font color='blue'>2. The regression problem</font>\n",
    "\n",
    "Next, we'll separate the predictor variables (the first eight columns) from the response variable (the last column). \n",
    "\n",
    "We will also split the data into training and test set. There is a nice method for this in `sklearn.model_selection`."
   ]
  },
  {
   "cell_type": "code",
   "execution_count": null,
   "id": "361b60a8",
   "metadata": {},
   "outputs": [],
   "source": [
    "from sklearn.model_selection import train_test_split\n",
    "\n",
    "# Separate predictor variables (X) from response (y)\n",
    "X = df.drop(columns=['MedHouseVal'])  # Features\n",
    "y = df['MedHouseVal']                 # Target\n",
    "\n",
    "# Split data into training set (X_train, y_train) and test set (X_test, y_test)\n",
    "X_train, X_test, y_train, y_test = train_test_split(X, y, test_size=0.2, random_state=42)"
   ]
  },
  {
   "cell_type": "markdown",
   "id": "1bee60fd",
   "metadata": {},
   "source": [
    "<font color='magenta'>Some questions for you:</font>\n",
    "* What are the sizes of the training and test sets?\n",
    "* Suppose we want to predict `y` (house value) without seeing `x`; what value of `y` would work best for the test set, and what would be the resulting mean squared error on the test set?"
   ]
  },
  {
   "cell_type": "code",
   "execution_count": null,
   "id": "bf2c2c59",
   "metadata": {},
   "outputs": [],
   "source": []
  },
  {
   "cell_type": "markdown",
   "id": "6f4c48a4",
   "metadata": {},
   "source": [
    "<font color='magenta'> To do: Use `sklearn.linear_model.LinearRegression` to fit a linear function to the training data using least-squares regression. Then display the resulting coefficients of each of the 8 features and give the mean squared error on the test set."
   ]
  },
  {
   "cell_type": "code",
   "execution_count": null,
   "id": "1dc0134d",
   "metadata": {},
   "outputs": [],
   "source": []
  },
  {
   "cell_type": "markdown",
   "id": "4fb6d9a6",
   "metadata": {},
   "source": [
    "<font color='magenta'> To do: Again, we'll fit a linear function (using the training set) and get the mean squared error (on the test set). However, this time we will use just a subset of the features.</font>\n",
    "* Use just the two features `Latitude` and `Longitude`\n",
    "* Use just one feature; which is the best choice?\n",
    "\n",
    " In both cases, report the resulting mean squared error on the test set."
   ]
  },
  {
   "cell_type": "code",
   "execution_count": null,
   "id": "2c0bf194",
   "metadata": {},
   "outputs": [],
   "source": []
  }
 ],
 "metadata": {
  "kernelspec": {
   "display_name": "Python 3 (ipykernel)",
   "language": "python",
   "name": "python3"
  },
  "language_info": {
   "codemirror_mode": {
    "name": "ipython",
    "version": 3
   },
   "file_extension": ".py",
   "mimetype": "text/x-python",
   "name": "python",
   "nbconvert_exporter": "python",
   "pygments_lexer": "ipython3",
   "version": "3.10.9"
  }
 },
 "nbformat": 4,
 "nbformat_minor": 5
}
